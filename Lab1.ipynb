{
  "nbformat": 4,
  "nbformat_minor": 0,
  "metadata": {
    "colab": {
      "name": "Untitled",
      "provenance": [],
      "authorship_tag": "ABX9TyO40J2BwdCw9DQt1wyA3uXt",
      "include_colab_link": true
    },
    "kernelspec": {
      "name": "python3",
      "display_name": "Python 3"
    }
  },
  "cells": [
    {
      "cell_type": "markdown",
      "metadata": {
        "id": "view-in-github",
        "colab_type": "text"
      },
      "source": [
        "<a href=\"https://colab.research.google.com/github/peytonsenyurt/SRA268_spring2020/blob/master/Lab1.ipynb\" target=\"_parent\"><img src=\"https://colab.research.google.com/assets/colab-badge.svg\" alt=\"Open In Colab\"/></a>"
      ]
    },
    {
      "cell_type": "markdown",
      "metadata": {
        "id": "oDwoyUxD4Uv3",
        "colab_type": "text"
      },
      "source": [
        "#1.Temperature difference January 28, 29, and 30th 2017"
      ]
    },
    {
      "cell_type": "markdown",
      "metadata": {
        "id": "boJApkkI4aZX",
        "colab_type": "text"
      },
      "source": [
        "#2.Outline"
      ]
    },
    {
      "cell_type": "markdown",
      "metadata": {
        "id": "oWWaT4Gg7lvA",
        "colab_type": "text"
      },
      "source": [
        "I will be comparing the maximum and minimum temperatures on the days before and after my birthday in 2017. My birthday is on January 29th so I will be comparing the temperatures on January 28th, 29th and 30th in the year 2017."
      ]
    },
    {
      "cell_type": "markdown",
      "metadata": {
        "id": "U1c5l_lI5Opf",
        "colab_type": "text"
      },
      "source": [
        "#3. The Sketch"
      ]
    },
    {
      "cell_type": "markdown",
      "metadata": {
        "id": "1xoIvmlz9Bat",
        "colab_type": "text"
      },
      "source": [
        "[graph](https://github.com/peytonsenyurt/SRA268_spring2020/blob/master/IMG_0186.jpeg) "
      ]
    },
    {
      "cell_type": "markdown",
      "metadata": {
        "id": "pXXRtpaT5Ra-",
        "colab_type": "text"
      },
      "source": [
        "#4. The conclusion\n"
      ]
    },
    {
      "cell_type": "markdown",
      "metadata": {
        "id": "Bg5AvLDI7oj4",
        "colab_type": "text"
      },
      "source": [
        "The maximum temperature in the period of the day before, during, and after my birthday in 2017 remained approximately the same. The maximum temperature only dropped one degree. However the minimum temperature dropped significantly on January 30th, 2017. There was a 5 degree drop within the period of time I analyzed."
      ]
    }
  ]
}