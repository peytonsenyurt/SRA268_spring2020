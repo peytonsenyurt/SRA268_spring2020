{
  "nbformat": 4,
  "nbformat_minor": 0,
  "metadata": {
    "colab": {
      "name": "Untitled0.ipynb",
      "provenance": [],
      "authorship_tag": "ABX9TyNwD990xhXQG7wVr1M+79lY",
      "include_colab_link": true
    },
    "kernelspec": {
      "name": "python3",
      "display_name": "Python 3"
    }
  },
  "cells": [
    {
      "cell_type": "markdown",
      "metadata": {
        "id": "view-in-github",
        "colab_type": "text"
      },
      "source": [
        "<a href=\"https://colab.research.google.com/github/peytonsenyurt/SRA268_spring2020/blob/master/Covid19animation.ipynb\" target=\"_parent\"><img src=\"https://colab.research.google.com/assets/colab-badge.svg\" alt=\"Open In Colab\"/></a>"
      ]
    },
    {
      "cell_type": "markdown",
      "metadata": {
        "id": "Ke2QKOU-CyqI",
        "colab_type": "text"
      },
      "source": [
        "#**COVID-19 Cases by Country Animation**"
      ]
    },
    {
      "cell_type": "markdown",
      "metadata": {
        "id": "aMaLfsL9CuUQ",
        "colab_type": "text"
      },
      "source": [
        "Creator"
      ]
    },
    {
      "cell_type": "markdown",
      "metadata": {
        "id": "1_GK8exQC7I9",
        "colab_type": "text"
      },
      "source": [
        "Buket Senyurt"
      ]
    },
    {
      "cell_type": "markdown",
      "metadata": {
        "id": "eE_7ZK2sC8S9",
        "colab_type": "text"
      },
      "source": [
        "#Coronavirus - John Hopkins Data"
      ]
    },
    {
      "cell_type": "markdown",
      "metadata": {
        "id": "1QOPimBrAsF7",
        "colab_type": "text"
      },
      "source": [
        "All data is from Novel Coronavirus (COVID-19) Cases, provided by Johns Hopkins CSSE - [John Hopkins GitHub](https://github.com/CSSEGISandData/COVID-19)"
      ]
    },
    {
      "cell_type": "markdown",
      "metadata": {
        "id": "ZSNkoyNiCQXq",
        "colab_type": "text"
      },
      "source": [
        "<div class='tableauPlaceholder' id='viz1585784362539' style='position: relative'><noscript><a href='#'><img alt=' ' src='https:&#47;&#47;public.tableau.com&#47;static&#47;images&#47;Co&#47;Covid19Animation&#47;Sheet1&#47;1_rss.png' style='border: none' /></a></noscript><object class='tableauViz'  style='display:none;'><param name='host_url' value='https%3A%2F%2Fpublic.tableau.com%2F' /> <param name='embed_code_version' value='3' /> <param name='site_root' value='' /><param name='name' value='Covid19Animation&#47;Sheet1' /><param name='tabs' value='no' /><param name='toolbar' value='yes' /><param name='static_image' value='https:&#47;&#47;public.tableau.com&#47;static&#47;images&#47;Co&#47;Covid19Animation&#47;Sheet1&#47;1.png' /> <param name='animate_transition' value='yes' /><param name='display_static_image' value='yes' /><param name='display_spinner' value='yes' /><param name='display_overlay' value='yes' /><param name='display_count' value='yes' /></object></div>                <script type='text/javascript'>                    var divElement = document.getElementById('viz1585784362539');                    var vizElement = divElement.getElementsByTagName('object')[0];                    vizElement.style.width='100%';vizElement.style.height=(divElement.offsetWidth*0.75)+'px';                    var scriptElement = document.createElement('script');                    scriptElement.src = 'https://public.tableau.com/javascripts/api/viz_v1.js';                    vizElement.parentNode.insertBefore(scriptElement, vizElement);                </script>"
      ]
    },
    {
      "cell_type": "markdown",
      "metadata": {
        "id": "IlhMtrbLHchM",
        "colab_type": "text"
      },
      "source": [
        "<div class='tableauPlaceholder' id='viz1585784362539' style='position: relative'><noscript><a href='#'><img alt=' ' src='https:&#47;&#47;public.tableau.com&#47;static&#47;images&#47;Co&#47;Covid19Animation&#47;Sheet1&#47;1_rss.png' style='border: none' /></a></noscript><object class='tableauViz'  style='display:none;'><param name='host_url' value='https%3A%2F%2Fpublic.tableau.com%2F' /> <param name='embed_code_version' value='3' /> <param name='site_root' value='' /><param name='name' value='Covid19Animation&#47;Sheet1' /><param name='tabs' value='no' /><param name='toolbar' value='yes' /><param name='static_image' value='https:&#47;&#47;public.tableau.com&#47;static&#47;images&#47;Co&#47;Covid19Animation&#47;Sheet1&#47;1.png' /> <param name='animate_transition' value='yes' /><param name='display_static_image' value='yes' /><param name='display_spinner' value='yes' /><param name='display_overlay' value='yes' /><param name='display_count' value='yes' /></object></div>                <script type='text/javascript'>                    var divElement = document.getElementById('viz1585784362539');                    var vizElement = divElement.getElementsByTagName('object')[0];                    vizElement.style.width='100%';vizElement.style.height=(divElement.offsetWidth*0.75)+'px';                    var scriptElement = document.createElement('script');                    scriptElement.src = 'https://public.tableau.com/javascripts/api/viz_v1.js';                    vizElement.parentNode.insertBefore(scriptElement, vizElement);                </script>"
      ]
    },
    {
      "cell_type": "markdown",
      "metadata": {
        "id": "RzrFu4X6HgJT",
        "colab_type": "text"
      },
      "source": [
        ""
      ]
    }
  ]
}